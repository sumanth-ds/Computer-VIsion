{
 "cells": [
  {
   "cell_type": "markdown",
   "id": "9175f7aa-15c3-4513-9185-3a9336d7ff22",
   "metadata": {},
   "source": [
    "# Walking/Pedistrain Detection"
   ]
  },
  {
   "cell_type": "code",
   "execution_count": 2,
   "id": "de8cb710-6955-464e-b6a2-026302cdbd25",
   "metadata": {},
   "outputs": [],
   "source": [
    "import numpy as np\n",
    "import cv2\n",
    "full_body_classifier = cv2.CascadeClassifier('haarcascade_fullbody.xml')\n",
    "cap = cv2.VideoCapture('walking.avi')\n",
    "while cap.isOpened():\n",
    "    ret, frame = cap.read()\n",
    "    gray = cv2.cvtColor(frame, cv2.COLOR_BGR2GRAY)\n",
    "    full_body = full_body_classifier.detectMultiScale(gray, 1.2,3)\n",
    "    for (x,y,w,h) in full_body:\n",
    "        cv2.rectangle(frame, (x,y), (x+w, y+h), (0,0,255), 1)\n",
    "        cv2.imshow(\"Walking/Pedistrain Detection\", frame)\n",
    "    if cv2.waitKey(1)==13:\n",
    "        break\n",
    "cap.release()\n",
    "cv2.destroyAllWindows()\n"
   ]
  },
  {
   "cell_type": "markdown",
   "id": "a73b2bc3-4926-489e-b88c-0790b3d5a05a",
   "metadata": {},
   "source": [
    "# Car Detection"
   ]
  },
  {
   "cell_type": "code",
   "execution_count": 7,
   "id": "e6892639-83ee-41a3-b9d3-08109b51215a",
   "metadata": {},
   "outputs": [],
   "source": [
    "import numpy as np\n",
    "import cv2\n",
    "import time\n",
    "car_classifier = cv2.CascadeClassifier(\"haarcascade_car.xml\")\n",
    "cap = cv2.VideoCapture(\"cars.avi\")\n",
    "while cap.isOpened():\n",
    "    time.sleep(0.05)\n",
    "    ret, frame = cap.read()\n",
    "    gray = cv2.cvtColor(frame, cv2.COLOR_BGR2GRAY)\n",
    "    cars = car_classifier.detectMultiScale(gray, 1.2,3)\n",
    "    for (x,y,w,h) in cars:\n",
    "        cv2.rectangle(frame, (x,y), (x+w, y+h), (0,0,255), 1)\n",
    "        cv2.imshow(\"cars Detection\", frame)\n",
    "    if cv2.waitKey(1)==13:\n",
    "        break\n",
    "cap.release()\n",
    "cv2.destroyAllWindows()"
   ]
  },
  {
   "cell_type": "code",
   "execution_count": null,
   "id": "2617b7ec-18f9-460a-958f-64a3c4935222",
   "metadata": {},
   "outputs": [],
   "source": [
    "# YOLO - (you only look once) : it's real time object detection algorithm in ComputerVision\n",
    "# Neural Network approach"
   ]
  },
  {
   "cell_type": "code",
   "execution_count": null,
   "id": "caf6320b-439f-4153-a7f5-53164e9dbc74",
   "metadata": {},
   "outputs": [],
   "source": []
  },
  {
   "cell_type": "code",
   "execution_count": null,
   "id": "a77f525d-9d59-4baf-ac4e-573d6d8c28ec",
   "metadata": {},
   "outputs": [],
   "source": []
  },
  {
   "cell_type": "code",
   "execution_count": null,
   "id": "3b8f15a1-1b06-4b73-9b59-607575e84e68",
   "metadata": {},
   "outputs": [],
   "source": []
  },
  {
   "cell_type": "code",
   "execution_count": null,
   "id": "728dad6d-3bb4-4f1a-976b-aff759e3e121",
   "metadata": {},
   "outputs": [],
   "source": []
  },
  {
   "cell_type": "code",
   "execution_count": null,
   "id": "3d571e0d-c636-4e52-b804-50f306991276",
   "metadata": {},
   "outputs": [],
   "source": []
  },
  {
   "cell_type": "code",
   "execution_count": null,
   "id": "d353dddd-2574-47c3-9a4d-072a757803a3",
   "metadata": {},
   "outputs": [],
   "source": []
  },
  {
   "cell_type": "code",
   "execution_count": null,
   "id": "7f047837-6d20-4206-b738-71db13a71935",
   "metadata": {},
   "outputs": [],
   "source": []
  },
  {
   "cell_type": "code",
   "execution_count": null,
   "id": "a06aaee8-3b11-4968-9e47-6486900ea6c3",
   "metadata": {},
   "outputs": [],
   "source": []
  },
  {
   "cell_type": "code",
   "execution_count": null,
   "id": "6d010f48-591c-48e6-a824-73d877a42ea2",
   "metadata": {},
   "outputs": [],
   "source": []
  },
  {
   "cell_type": "code",
   "execution_count": null,
   "id": "cbab43f1-1f2f-4437-96aa-a284174d3ebc",
   "metadata": {},
   "outputs": [],
   "source": []
  },
  {
   "cell_type": "code",
   "execution_count": null,
   "id": "115674a2-13c0-46d3-827f-2bd3aa5425f8",
   "metadata": {},
   "outputs": [],
   "source": []
  },
  {
   "cell_type": "code",
   "execution_count": null,
   "id": "bf1e934f-eeb8-4868-90f0-3dda16651644",
   "metadata": {},
   "outputs": [],
   "source": []
  },
  {
   "cell_type": "code",
   "execution_count": null,
   "id": "b82c2633-fa69-43d7-bbc7-ac7133d0a12b",
   "metadata": {},
   "outputs": [],
   "source": []
  },
  {
   "cell_type": "code",
   "execution_count": null,
   "id": "776527a9-f8d6-4a8f-b624-bf2fc270cd60",
   "metadata": {},
   "outputs": [],
   "source": []
  }
 ],
 "metadata": {
  "kernelspec": {
   "display_name": "Python 3 (ipykernel)",
   "language": "python",
   "name": "python3"
  },
  "language_info": {
   "codemirror_mode": {
    "name": "ipython",
    "version": 3
   },
   "file_extension": ".py",
   "mimetype": "text/x-python",
   "name": "python",
   "nbconvert_exporter": "python",
   "pygments_lexer": "ipython3",
   "version": "3.12.4"
  }
 },
 "nbformat": 4,
 "nbformat_minor": 5
}
